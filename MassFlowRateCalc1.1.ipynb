{
 "cells": [
  {
   "cell_type": "code",
   "execution_count": null,
   "id": "b3ea20c2",
   "metadata": {},
   "outputs": [],
   "source": [
    "# This program can calculate the inlet/outlet of a liquid that will suffer \n",
    "# the process of concentration through evaporation.\n",
    "\n",
    "# The user should enter the soluble solids content of the inlet, the mass flow rate of water \n",
    "# removed by evaporation, and the soluble solids content of the final concentrated outlet product."
   ]
  },
  {
   "cell_type": "code",
   "execution_count": null,
   "id": "b49e8eee",
   "metadata": {},
   "outputs": [],
   "source": [
    "# CLASSES AND FUNCTIONS:\n",
    "\n",
    "class MassFlow:\n",
    "    # m = mass flow rate in kg/h\n",
    "    # xs = mass fraction of soluble solids in decimals, xw = mass fraction of water in decimals\n",
    "    def __init__(self, m, xs, xw):\n",
    "        self.m = m\n",
    "        self.xs = xs\n",
    "        self.xw = xw\n",
    "    \n",
    "def getInXS():\n",
    "    x = 0\n",
    "    # I did choose the lower and upper limit for the initial soluble solids content.\n",
    "    while x < 0.10 or x > 0.25:\n",
    "        try:\n",
    "            x = float(input('Please insert the initial soluble solids content, ranging from 0.10 to 0.25! \\nYour entry: '))\n",
    "        except:\n",
    "            print('Please insert a valid value')\n",
    "    return x\n",
    "\n",
    "def getOutXS():\n",
    "    y = 0\n",
    "    # I did choose the lower and upper limit for the final soluble solids content.\n",
    "    while y < 0.25 or y > 0.65:\n",
    "        try:\n",
    "            y = float(input('Please insert the final soluble solids content, ranging from 0.25 to 0.65! \\nYour entry: '))\n",
    "        except:\n",
    "            print('Please insert a valid value')\n",
    "    return y\n",
    "\n",
    "def get_mWater():\n",
    "    z = 0\n",
    "    while z <= 0:\n",
    "        try:\n",
    "            z = float(input('Please insert the mass flow rate (kg/h) of the water removed by evaporation. \\nYour entry: '))\n",
    "        except:\n",
    "            print('Please insert a valid value')\n",
    "    return z\n",
    "\n",
    "def run_again():\n",
    "    \n",
    "    return input('\\nDo you want to calculate again? Enter Yes or No: ').lower().startswith('y')"
   ]
  },
  {
   "cell_type": "code",
   "execution_count": null,
   "id": "ce6ef24a",
   "metadata": {},
   "outputs": [],
   "source": [
    "#----------- SCRIPT -----------#\n",
    "\n",
    "while True:\n",
    "    \n",
    "    print('Welcome to the Mass Flow Rate Calculator')\n",
    "    \n",
    "    # Get the inlet total soluble solids content\n",
    "    inlet = MassFlow(0, getInXS(), 0)\n",
    "    inlet.xw = 1 - inlet.xs\n",
    "    \n",
    "    # Get the outlet total soluble solids content\n",
    "    outlet = MassFlow(0, getOutXS(), 0)\n",
    "    outlet.xw = 1 - outlet.xs\n",
    "    \n",
    "    # Get the mass flow rate of water removed by evaporation\n",
    "    mw = MassFlow(get_mWater(), 0, 1)\n",
    "    \n",
    "    # Calculate the mass flow rate of the inlet and outlet\n",
    "    inlet.m = (mw.m)/((inlet.xw) - ((outlet.xw)*((inlet.xs)/(outlet.xs))))\n",
    "    outlet.m = inlet.m - mw.m\n",
    "    \n",
    "    #Return the answer to the problem\n",
    "    print('To concentrate a liquid with total soluble solids content of {} entering \\\n",
    "the system at a mass flow rate of {:.2f} kg/h, you will get a water outlet of {:.2f} kg/h \\\n",
    "and a concentrated liquid with total soluble solids content of {} at a mass flow \\\n",
    "rate of {:.2f} kg/h'.format(inlet.xs, inlet.m, mw.m, outlet.xs, outlet.m))\n",
    "       \n",
    "    # If run_again = False, stop. If True, restart the script\n",
    "    if not run_again():\n",
    "        break"
   ]
  }
 ],
 "metadata": {
  "kernelspec": {
   "display_name": "Python 3 (ipykernel)",
   "language": "python",
   "name": "python3"
  },
  "language_info": {
   "codemirror_mode": {
    "name": "ipython",
    "version": 3
   },
   "file_extension": ".py",
   "mimetype": "text/x-python",
   "name": "python",
   "nbconvert_exporter": "python",
   "pygments_lexer": "ipython3",
   "version": "3.9.7"
  }
 },
 "nbformat": 4,
 "nbformat_minor": 5
}
